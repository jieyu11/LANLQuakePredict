{
 "cells": [
  {
   "cell_type": "markdown",
   "metadata": {},
   "source": [
    "## Challenge: LANL Earthquake Prediction\n",
    "\n",
    "It is a kaggle challenge found: [here](https://www.kaggle.com/c/LANL-Earthquake-Prediction).\n",
    "\n",
    "###  Introduction\n",
    "Forecasting earthquakes is one of the most important problems in Earth science because of their devastating consequences. Current scientific studies related to earthquake forecasting focus on three key points: when the event will occur, where it will occur, and how large it will be.\n",
    "\n",
    "In this competition, you will address when the earthquake will take place. Specifically, you’ll predict the time remaining before laboratory earthquakes occur from real-time seismic data.\n",
    "\n",
    "If this challenge is solved and the physics are ultimately shown to scale from the laboratory to the field, researchers will have the potential to improve earthquake hazard assessments that could save lives and billions of dollars in infrastructure.\n",
    "\n",
    "This challenge is hosted by Los Alamos National Laboratory which enhances national security by ensuring the safety of the U.S. nuclear stockpile, developing technologies to reduce threats from weapons of mass destruction, and solving problems related to energy, environment, infrastructure, health, and global security concerns.\n",
    "\n",
    "\n",
    "### Data\n",
    "First of all, we need to understand the data. For training dataset, there are two columns, named: 'acoustic_data' and 'time_to_failure'.\n",
    "* acoustic_data: some data measured with certain device, which serves as **X** in the model building later on.\n",
    "* time_to_failure: in micro-seconds, the time gap till the event of the lab earth quake, which serves as **Y**.\n",
    "\n",
    "For testing, it is a list of data segments of 'acoustic_data', from which to predict the next 'time_to_failure'. It is not clear some of these segments are coming from same quake or each of them coming from separated quakes. "
   ]
  },
  {
   "cell_type": "code",
   "execution_count": 1,
   "metadata": {},
   "outputs": [
    {
     "name": "stderr",
     "output_type": "stream",
     "text": [
      "Using TensorFlow backend.\n"
     ]
    }
   ],
   "source": [
    "# loading all the tools!\n",
    "import numpy as np # linear algebra\n",
    "import pandas as pd # data processing, CSV file I/O (e.g. pd.read_csv)\n",
    "import matplotlib.pyplot as plt\n",
    "import sys # system specific\n",
    "import keras\n",
    "from keras.models import Sequential\n",
    "from keras.layers import Dense, Dropout, Activation, LSTM\n",
    "from keras.optimizers import SGD\n",
    "from keras.models import model_from_json\n",
    "from sklearn.preprocessing import MinMaxScaler\n",
    "from sklearn.metrics import mean_squared_error\n",
    "import math\n",
    "import datetime"
   ]
  },
  {
   "cell_type": "markdown",
   "metadata": {},
   "source": [
    "#### Training Data Exlotory\n",
    "Take a look at the training data: train.csv, which has a size over 9GB. We need to figure out how many lab earth quakes are there in this dataset.\n",
    "\n",
    "Loading the code below (running would take hours)."
   ]
  },
  {
   "cell_type": "markdown",
   "metadata": {},
   "source": [
    "```python\n",
    "  train = pd.read_csv(ftrain, dtype={'acoustic_data': np.int16, 'time_to_failure': np.float64})\n",
    "  train.rename({\"acoustic_data\": \"X\", \"time_to_failure\": \"Y\"}, axis=\"columns\", inplace=True)\n",
    "  nall = len(train.Y.values)\n",
    "  print(\"Start calculation, total entries: \", nall)\n",
    "  jump=int(1e6)\n",
    "  jump2=int(1e4)\n",
    "  jump3=int(1e2)\n",
    "  idx = 1\n",
    "  while idx < nall:\n",
    "    val = train.Y.values[idx]\n",
    "    if idx + jump < nall and val - train.Y.values[idx + jump ] < 0 :\n",
    "      idx = idx + jump - 1\n",
    "    elif idx + jump2 < nall and val - train.Y.values[idx + jump2 ] < 0 :\n",
    "      idx = idx + jump2 - 1\n",
    "    elif idx + jump3 < nall and val - train.Y.values[idx + jump3 ] < 0 :\n",
    "      idx = idx + jump3 - 1\n",
    "    elif val - train.Y.values[idx -1 ] > 0.01:\n",
    "      print(\"index: \", idx-1, \"value: \", train.Y.values[idx-1], \" next value: \", val)\n",
    "    idx = idx + 1\n",
    "```"
   ]
  },
  {
   "cell_type": "raw",
   "metadata": {},
   "source": [
    "Output is below:\n",
    "  \n",
    "  Start calculation, total entries:  629145480\n",
    "  index:  5656573 value:  0.0007954798229500001  next value:  11.540799987\n",
    "  index:  50085877 value:  0.0006954821747100001  next value:  14.18059999\n",
    "  index:  104677355 value:  0.00079548506392  next value:  8.8566999914\n",
    "  index:  138772452 value:  0.0010954868680999998  next value:  12.693999994\n",
    "  index:  187641819 value:  0.0005954894541  next value:  8.0554999956\n",
    "  index:  218652629 value:  0.0010954910954  next value:  7.058999997000001\n",
    "  index:  245829584 value:  0.0004954925329900001  next value:  16.1074\n",
    "  index:  307838916 value:  0.00069549581485  next value:  7.905600001900001\n",
    "  index:  338276286 value:  0.00019549742592  next value:  9.6371000039\n",
    "  index:  375377847 value:  0.00049549938876  next value:  11.426400006\n",
    "  index:  419368879 value:  0.00019550171692  next value:  11.024200008\n",
    "  index:  461811622 value:  9.550396316600001e-05  next value:  8.8281000103\n",
    "  index:  495800224 value:  9.5505761692e-05  next value:  8.566000012\n",
    "  index:  528777114 value:  0.0008955075072699999  next value:  14.751800015\n",
    "  index:  585568143 value:  0.00059551051299  next value:  9.4595000169\n",
    "  index:  621985672 value:  0.0005955124393  next value:  11.618600019"
   ]
  },
  {
   "cell_type": "code",
   "execution_count": null,
   "metadata": {},
   "outputs": [],
   "source": []
  }
 ],
 "metadata": {
  "kernelspec": {
   "display_name": "Python 3",
   "language": "python",
   "name": "python3"
  },
  "language_info": {
   "codemirror_mode": {
    "name": "ipython",
    "version": 3
   },
   "file_extension": ".py",
   "mimetype": "text/x-python",
   "name": "python",
   "nbconvert_exporter": "python",
   "pygments_lexer": "ipython3",
   "version": "3.7.0"
  }
 },
 "nbformat": 4,
 "nbformat_minor": 2
}
